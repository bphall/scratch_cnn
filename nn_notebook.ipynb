{
 "cells": [
  {
   "cell_type": "code",
   "execution_count": 13,
   "metadata": {},
   "outputs": [
    {
     "name": "stderr",
     "output_type": "stream",
     "text": [
      "Using TensorFlow backend.\n"
     ]
    }
   ],
   "source": [
    "import pandas as pd\n",
    "import matplotlib.pyplot as plt\n",
    "from sklearn.datasets import load_digits\n",
    "from sklearn.model_selection import train_test_split\n",
    "\n",
    "from keras.layers import Dense\n",
    "from keras.models import Sequential\n",
    "from keras.optimizers import RMSprop, Adadelta, Adam"
   ]
  },
  {
   "cell_type": "code",
   "execution_count": 3,
   "metadata": {},
   "outputs": [
    {
     "data": {
      "text/plain": [
       "<matplotlib.image.AxesImage at 0x11dd98dd0>"
      ]
     },
     "execution_count": 3,
     "metadata": {},
     "output_type": "execute_result"
    },
    {
     "data": {
      "text/plain": [
       "<Figure size 432x288 with 0 Axes>"
      ]
     },
     "metadata": {},
     "output_type": "display_data"
    },
    {
     "data": {
      "image/png": "[encoded data removed]",
      "text/plain": [
       "<Figure size 288x288 with 1 Axes>"
      ]
     },
     "metadata": {
      "needs_background": "light"
     },
     "output_type": "display_data"
    }
   ],
   "source": [
    "dig = load_digits()\n",
    "plt.gray()\n",
    "plt.matshow(dig.images[25])"
   ]
  },
  {
   "cell_type": "code",
   "execution_count": 14,
   "metadata": {},
   "outputs": [],
   "source": [
    "onehot_target = pd.get_dummies(dig.target)"
   ]
  },
  {
   "cell_type": "code",
   "execution_count": 15,
   "metadata": {},
   "outputs": [],
   "source": [
    "x_train, x_val, y_train, y_val = train_test_split(dig.data, onehot_target, test_size=0.1, random_state=20)"
   ]
  },
  {
   "cell_type": "code",
   "execution_count": null,
   "metadata": {},
   "outputs": [],
   "source": []
  },
  {
   "cell_type": "code",
   "execution_count": 16,
   "metadata": {},
   "outputs": [],
   "source": [
    "model = Sequential()"
   ]
  },
  {
   "cell_type": "code",
   "execution_count": 17,
   "metadata": {},
   "outputs": [],
   "source": [
    "model.add(Dense(128, input_dim=x_train.shape[1], activation='sigmoid'))\n",
    "model.add(Dense(128, activation='sigmoid'))\n",
    "model.add(Dense(10, activation='softmax'))"
   ]
  },
  {
   "cell_type": "code",
   "execution_count": 19,
   "metadata": {},
   "outputs": [
    {
     "name": "stdout",
     "output_type": "stream",
     "text": [
      "Model: \"sequential_1\"\n",
      "_________________________________________________________________\n",
      "Layer (type)                 Output Shape              Param #   \n",
      "=================================================================\n",
      "dense_1 (Dense)              (None, 128)               8320      \n",
      "_________________________________________________________________\n",
      "dense_2 (Dense)              (None, 128)               16512     \n",
      "_________________________________________________________________\n",
      "dense_3 (Dense)              (None, 10)                1290      \n",
      "=================================================================\n",
      "Total params: 26,122\n",
      "Trainable params: 26,122\n",
      "Non-trainable params: 0\n",
      "_________________________________________________________________\n"
     ]
    }
   ],
   "source": [
    "model.summary()"
   ]
  },
  {
   "cell_type": "code",
   "execution_count": 20,
   "metadata": {},
   "outputs": [
    {
     "name": "stdout",
     "output_type": "stream",
     "text": [
      "Epoch 1/50\n",
      "1617/1617 [==============================] - 0s 82us/step - loss: 2.0448 - categorical_accuracy: 0.4731\n",
      "Epoch 2/50\n",
      "1617/1617 [==============================] - 0s 20us/step - loss: 1.4066 - categorical_accuracy: 0.8200\n",
      "Epoch 3/50\n",
      "1617/1617 [==============================] - 0s 20us/step - loss: 0.9431 - categorical_accuracy: 0.8868\n",
      "Epoch 4/50\n",
      "1617/1617 [==============================] - 0s 17us/step - loss: 0.6549 - categorical_accuracy: 0.9264\n",
      "Epoch 5/50\n",
      "1617/1617 [==============================] - 0s 15us/step - loss: 0.4726 - categorical_accuracy: 0.9481\n",
      "Epoch 6/50\n",
      "1617/1617 [==============================] - 0s 16us/step - loss: 0.3592 - categorical_accuracy: 0.9629\n",
      "Epoch 7/50\n",
      "1617/1617 [==============================] - 0s 15us/step - loss: 0.2814 - categorical_accuracy: 0.9703\n",
      "Epoch 8/50\n",
      "1617/1617 [==============================] - 0s 15us/step - loss: 0.2326 - categorical_accuracy: 0.9740\n",
      "Epoch 9/50\n",
      "1617/1617 [==============================] - 0s 15us/step - loss: 0.1907 - categorical_accuracy: 0.9777\n",
      "Epoch 10/50\n",
      "1617/1617 [==============================] - 0s 15us/step - loss: 0.1610 - categorical_accuracy: 0.9802\n",
      "Epoch 11/50\n",
      "1617/1617 [==============================] - 0s 16us/step - loss: 0.1380 - categorical_accuracy: 0.9839\n",
      "Epoch 12/50\n",
      "1617/1617 [==============================] - 0s 15us/step - loss: 0.1206 - categorical_accuracy: 0.9821\n",
      "Epoch 13/50\n",
      "1617/1617 [==============================] - 0s 17us/step - loss: 0.1054 - categorical_accuracy: 0.9858\n",
      "Epoch 14/50\n",
      "1617/1617 [==============================] - 0s 16us/step - loss: 0.0917 - categorical_accuracy: 0.9870\n",
      "Epoch 15/50\n",
      "1617/1617 [==============================] - 0s 16us/step - loss: 0.0817 - categorical_accuracy: 0.9889\n",
      "Epoch 16/50\n",
      "1617/1617 [==============================] - 0s 16us/step - loss: 0.0733 - categorical_accuracy: 0.9895\n",
      "Epoch 17/50\n",
      "1617/1617 [==============================] - 0s 15us/step - loss: 0.0657 - categorical_accuracy: 0.9907\n",
      "Epoch 18/50\n",
      "1617/1617 [==============================] - 0s 17us/step - loss: 0.0587 - categorical_accuracy: 0.9926\n",
      "Epoch 19/50\n",
      "1617/1617 [==============================] - 0s 17us/step - loss: 0.0541 - categorical_accuracy: 0.9926\n",
      "Epoch 20/50\n",
      "1617/1617 [==============================] - 0s 15us/step - loss: 0.0489 - categorical_accuracy: 0.9938\n",
      "Epoch 21/50\n",
      "1617/1617 [==============================] - 0s 17us/step - loss: 0.0441 - categorical_accuracy: 0.9957\n",
      "Epoch 22/50\n",
      "1617/1617 [==============================] - 0s 15us/step - loss: 0.0400 - categorical_accuracy: 0.9957\n",
      "Epoch 23/50\n",
      "1617/1617 [==============================] - 0s 16us/step - loss: 0.0365 - categorical_accuracy: 0.9963\n",
      "Epoch 24/50\n",
      "1617/1617 [==============================] - 0s 15us/step - loss: 0.0335 - categorical_accuracy: 0.9969\n",
      "Epoch 25/50\n",
      "1617/1617 [==============================] - 0s 20us/step - loss: 0.0303 - categorical_accuracy: 0.9975\n",
      "Epoch 26/50\n",
      "1617/1617 [==============================] - 0s 15us/step - loss: 0.0283 - categorical_accuracy: 0.9981\n",
      "Epoch 27/50\n",
      "1617/1617 [==============================] - 0s 17us/step - loss: 0.0259 - categorical_accuracy: 0.9981\n",
      "Epoch 28/50\n",
      "1617/1617 [==============================] - 0s 15us/step - loss: 0.0242 - categorical_accuracy: 0.9975\n",
      "Epoch 29/50\n",
      "1617/1617 [==============================] - 0s 16us/step - loss: 0.0220 - categorical_accuracy: 0.9988\n",
      "Epoch 30/50\n",
      "1617/1617 [==============================] - 0s 15us/step - loss: 0.0199 - categorical_accuracy: 0.9988\n",
      "Epoch 31/50\n",
      "1617/1617 [==============================] - 0s 17us/step - loss: 0.0188 - categorical_accuracy: 0.9988\n",
      "Epoch 32/50\n",
      "1617/1617 [==============================] - 0s 15us/step - loss: 0.0172 - categorical_accuracy: 0.9988\n",
      "Epoch 33/50\n",
      "1617/1617 [==============================] - 0s 16us/step - loss: 0.0160 - categorical_accuracy: 0.9988\n",
      "Epoch 34/50\n",
      "1617/1617 [==============================] - 0s 17us/step - loss: 0.0149 - categorical_accuracy: 0.9988\n",
      "Epoch 35/50\n",
      "1617/1617 [==============================] - 0s 16us/step - loss: 0.0137 - categorical_accuracy: 0.9994\n",
      "Epoch 36/50\n",
      "1617/1617 [==============================] - 0s 15us/step - loss: 0.0126 - categorical_accuracy: 0.9994\n",
      "Epoch 37/50\n",
      "1617/1617 [==============================] - 0s 17us/step - loss: 0.0122 - categorical_accuracy: 0.9994\n",
      "Epoch 38/50\n",
      "1617/1617 [==============================] - 0s 15us/step - loss: 0.0111 - categorical_accuracy: 0.9994\n",
      "Epoch 39/50\n",
      "1617/1617 [==============================] - 0s 16us/step - loss: 0.0105 - categorical_accuracy: 1.0000\n",
      "Epoch 40/50\n",
      "1617/1617 [==============================] - 0s 16us/step - loss: 0.0095 - categorical_accuracy: 1.0000\n",
      "Epoch 41/50\n",
      "1617/1617 [==============================] - 0s 15us/step - loss: 0.0091 - categorical_accuracy: 1.0000\n",
      "Epoch 42/50\n",
      "1617/1617 [==============================] - 0s 18us/step - loss: 0.0087 - categorical_accuracy: 1.0000\n",
      "Epoch 43/50\n",
      "1617/1617 [==============================] - 0s 17us/step - loss: 0.0080 - categorical_accuracy: 1.0000\n",
      "Epoch 44/50\n",
      "1617/1617 [==============================] - 0s 15us/step - loss: 0.0076 - categorical_accuracy: 1.0000\n",
      "Epoch 45/50\n",
      "1617/1617 [==============================] - 0s 16us/step - loss: 0.0072 - categorical_accuracy: 1.0000\n",
      "Epoch 46/50\n",
      "1617/1617 [==============================] - 0s 17us/step - loss: 0.0068 - categorical_accuracy: 1.0000\n",
      "Epoch 47/50\n",
      "1617/1617 [==============================] - 0s 15us/step - loss: 0.0065 - categorical_accuracy: 1.0000\n",
      "Epoch 48/50\n",
      "1617/1617 [==============================] - 0s 17us/step - loss: 0.0060 - categorical_accuracy: 1.0000\n",
      "Epoch 49/50\n",
      "1617/1617 [==============================] - 0s 15us/step - loss: 0.0057 - categorical_accuracy: 1.0000\n",
      "Epoch 50/50\n",
      "1617/1617 [==============================] - 0s 16us/step - loss: 0.0054 - categorical_accuracy: 1.0000\n",
      "180/180 [==============================] - 0s 135us/step\n",
      "\n",
      "categorical_accuracy: 98.89%\n"
     ]
    }
   ],
   "source": [
    "model.compile(optimizer=Adadelta(), loss='categorical_crossentropy', metrics=['categorical_accuracy'])\n",
    "model.fit(x_train, y_train, epochs=50, batch_size=64)\n",
    "\n",
    "scores = model.evaluate(x_val, y_val)\n",
    "print(\"\\n%s: %.2f%%\" % (model.metrics_names[1], scores[1]*100))"
   ]
  }
 ],
 "metadata": {
  "kernelspec": {
   "display_name": "cnn_jup_kernel",
   "language": "python",
   "name": "cnn_jup_kernel"
  },
  "language_info": {
   "codemirror_mode": {
    "name": "ipython",
    "version": 3
   },
   "file_extension": ".py",
   "mimetype": "text/x-python",
   "name": "python",
   "nbconvert_exporter": "python",
   "pygments_lexer": "ipython3",
   "version": "3.7.7"
  },
  "toc": {
   "base_numbering": 1,
   "nav_menu": {},
   "number_sections": true,
   "sideBar": true,
   "skip_h1_title": false,
   "title_cell": "Table of Contents",
   "title_sidebar": "Contents",
   "toc_cell": false,
   "toc_position": {},
   "toc_section_display": true,
   "toc_window_display": false
  }
 },
 "nbformat": 4,
 "nbformat_minor": 4
}
